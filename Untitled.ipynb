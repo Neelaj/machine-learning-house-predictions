{
 "cells": [
  {
   "cell_type": "code",
   "execution_count": 54,
   "metadata": {
    "collapsed": true
   },
   "outputs": [],
   "source": [
    "from flask import render_template, request, flash, redirect, Flask\n",
    "from forms import HouseForms, MortgageInputForm\n",
    "import pickle\n",
    "import dill\n",
    "import pandas as pd\n",
    "import os.path"
   ]
  },
  {
   "cell_type": "code",
   "execution_count": 60,
   "metadata": {
    "collapsed": true
   },
   "outputs": [],
   "source": [
    "# loading the saved clf model pickle\n",
    "clf_model = open(\"clf_model_new.pkl\",\"rb\")\n",
    "clf = pickle.load(clf_model)\n"
   ]
  },
  {
   "cell_type": "code",
   "execution_count": 56,
   "metadata": {},
   "outputs": [],
   "source": [
    "overallquality = []\n",
    "garagecars = []\n",
    "area = []\n",
    "fullbaths = []\n",
    "yearbuilt = []\n",
    "bedrooms = []\n",
    "buildingtype = \"\"\n",
    "centralair = \"\"\n",
    "housestyle = \"\""
   ]
  },
  {
   "cell_type": "code",
   "execution_count": 57,
   "metadata": {},
   "outputs": [
    {
     "name": "stdout",
     "output_type": "stream",
     "text": [
      "Overallquality: 10\n",
      "Garage Cars: 1\n",
      "Squarefeet: 2900\n",
      "Fullbaths: 1\n",
      "Year Built: 1998\n",
      "Bedrooms: 1\n",
      "Building Type: BldgType_1Fam\n",
      "Central Air: CentralAir_Y\n",
      "House Style: HouseStyle_1Story\n"
     ]
    }
   ],
   "source": [
    "overallquality.append(input(\"Overallquality: \"))\n",
    "garagecars.append(input(\"Garage Cars: \"))\n",
    "area.append(input(\"Squarefeet: \"))\n",
    "fullbaths.append(input(\"Fullbaths: \"))\n",
    "yearbuilt.append(input(\"Year Built: \"))\n",
    "bedrooms.append(input(\"Bedrooms: \"))\n",
    "buildingtype = input(\"Building Type: \")\n",
    "centralair = input(\"Central Air: \")\n",
    "housestyle = input(\"House Style: \")"
   ]
  },
  {
   "cell_type": "code",
   "execution_count": 58,
   "metadata": {},
   "outputs": [
    {
     "name": "stdout",
     "output_type": "stream",
     "text": [
      "['10']\n",
      "  Overall Quality Squarefeet Bedrooms Full Baths Garage Cars Year Built  \\\n",
      "0              10       2900        1          1           1       1998   \n",
      "\n",
      "   BldgType_1Fam  BldgType_2fmCon  BldgType_Duplex  BldgType_Twnhs  \\\n",
      "0              1                0                0               0   \n",
      "\n",
      "        ...         CentralAir_N  CentralAir_Y  HouseStyle_1.5Fin  \\\n",
      "0       ...                    0             1                  0   \n",
      "\n",
      "   HouseStyle_1.5Unf  HouseStyle_1Story  HouseStyle_2.5Fin  HouseStyle_2.5Unf  \\\n",
      "0                  0                  1                  0                  0   \n",
      "\n",
      "   HouseStyle_2Story  HouseStyle_SFoyer  HouseStyle_SLvl  \n",
      "0                  0                  0                0  \n",
      "\n",
      "[1 rows x 21 columns]\n"
     ]
    }
   ],
   "source": [
    "pred_df = pd.DataFrame()\n",
    "\n",
    "pred_df[\"Overall Quality\"] = overallquality\n",
    "pred_df[\"Squarefeet\"] = area\n",
    "pred_df[\"Bedrooms\"] = bedrooms\n",
    "pred_df[\"Full Baths\"] = fullbaths\n",
    "pred_df[\"Garage Cars\"] = garagecars\n",
    "pred_df[\"Year Built\"] = yearbuilt\n",
    "\n",
    "print(overallquality)\n",
    "# To add 0, 70 times, to zipcodelist:\n",
    "dummylist = []\n",
    "dummylist = 15 * [0]\n",
    "\n",
    "dummy_df = pd.DataFrame([dummylist])\n",
    "\n",
    "pred_df[[\"BldgType_1Fam\",'BldgType_2fmCon', 'BldgType_Duplex', 'BldgType_Twnhs',\n",
    "       'BldgType_TwnhsE', 'CentralAir_N', 'CentralAir_Y', 'HouseStyle_1.5Fin',\n",
    "       'HouseStyle_1.5Unf', 'HouseStyle_1Story', 'HouseStyle_2.5Fin',\n",
    "       'HouseStyle_2.5Unf', 'HouseStyle_2Story', 'HouseStyle_SFoyer',\n",
    "       'HouseStyle_SLvl']] = dummy_df\n",
    "pred_df.loc[0, buildingtype] = 1\n",
    "pred_df.loc[0, centralair] = 1\n",
    "pred_df.loc[0, housestyle] = 1\n",
    "\n",
    "print(pred_df)"
   ]
  },
  {
   "cell_type": "code",
   "execution_count": 61,
   "metadata": {},
   "outputs": [
    {
     "data": {
      "text/plain": [
       "array([319903.07057361])"
      ]
     },
     "execution_count": 61,
     "metadata": {},
     "output_type": "execute_result"
    }
   ],
   "source": [
    "prediction = clf.predict(pred_df)\n",
    "prediction"
   ]
  },
  {
   "cell_type": "code",
   "execution_count": null,
   "metadata": {
    "collapsed": true
   },
   "outputs": [],
   "source": []
  }
 ],
 "metadata": {
  "kernelspec": {
   "display_name": "Python [conda env:PythonData]",
   "language": "python",
   "name": "conda-env-PythonData-py"
  },
  "language_info": {
   "codemirror_mode": {
    "name": "ipython",
    "version": 3
   },
   "file_extension": ".py",
   "mimetype": "text/x-python",
   "name": "python",
   "nbconvert_exporter": "python",
   "pygments_lexer": "ipython3",
   "version": "3.6.3"
  }
 },
 "nbformat": 4,
 "nbformat_minor": 2
}
